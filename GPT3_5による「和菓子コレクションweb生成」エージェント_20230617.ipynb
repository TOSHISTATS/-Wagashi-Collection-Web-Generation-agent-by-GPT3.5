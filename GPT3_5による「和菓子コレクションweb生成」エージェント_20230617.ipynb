{
  "cells": [
    {
      "cell_type": "markdown",
      "metadata": {
        "id": "bXxKxpxpOWTA"
      },
      "source": [
        "#GPT3.5による「和菓子コレクションweb生成」エージェント\n",
        "\n"
      ]
    },
    {
      "cell_type": "code",
      "execution_count": null,
      "metadata": {
        "id": "RRYSu48huSUW",
        "colab": {
          "base_uri": "https://localhost:8080/"
        },
        "outputId": "6778ef8f-7a11-44c9-cd68-a1585b79ab62"
      },
      "outputs": [
        {
          "output_type": "stream",
          "name": "stdout",
          "text": [
            "\u001b[2K     \u001b[90m━━━━━━━━━━━━━━━━━━━━━━━━━━━━━━━━━━━━━━━━\u001b[0m \u001b[32m73.6/73.6 kB\u001b[0m \u001b[31m7.6 MB/s\u001b[0m eta \u001b[36m0:00:00\u001b[0m\n",
            "\u001b[2K     \u001b[90m━━━━━━━━━━━━━━━━━━━━━━━━━━━━━━━━━━━━━━━━\u001b[0m \u001b[32m1.7/1.7 MB\u001b[0m \u001b[31m65.7 MB/s\u001b[0m eta \u001b[36m0:00:00\u001b[0m\n",
            "\u001b[2K     \u001b[90m━━━━━━━━━━━━━━━━━━━━━━━━━━━━━━━━━━━━━━━━\u001b[0m \u001b[32m1.0/1.0 MB\u001b[0m \u001b[31m60.6 MB/s\u001b[0m eta \u001b[36m0:00:00\u001b[0m\n",
            "\u001b[2K     \u001b[90m━━━━━━━━━━━━━━━━━━━━━━━━━━━━━━━━━━━━━━\u001b[0m \u001b[32m114.5/114.5 kB\u001b[0m \u001b[31m17.0 MB/s\u001b[0m eta \u001b[36m0:00:00\u001b[0m\n",
            "\u001b[2K     \u001b[90m━━━━━━━━━━━━━━━━━━━━━━━━━━━━━━━━━━━━━━\u001b[0m \u001b[32m268.8/268.8 kB\u001b[0m \u001b[31m34.6 MB/s\u001b[0m eta \u001b[36m0:00:00\u001b[0m\n",
            "\u001b[2K     \u001b[90m━━━━━━━━━━━━━━━━━━━━━━━━━━━━━━━━━━━━━━\u001b[0m \u001b[32m149.6/149.6 kB\u001b[0m \u001b[31m19.5 MB/s\u001b[0m eta \u001b[36m0:00:00\u001b[0m\n",
            "\u001b[?25h"
          ]
        }
      ],
      "source": [
        "!pip -q install openai==0.27.8 tiktoken"
      ]
    },
    {
      "cell_type": "markdown",
      "source": [
        "ご自身のAPI keyを入れて下さい"
      ],
      "metadata": {
        "id": "9kIreDHGKUK2"
      }
    },
    {
      "cell_type": "code",
      "source": [
        "import openai\n",
        "import os\n",
        "\n",
        "openai.api_key = \"#####\""
      ],
      "metadata": {
        "id": "dNA4TsHpu6OM"
      },
      "execution_count": null,
      "outputs": []
    },
    {
      "cell_type": "markdown",
      "source": [
        "## 1. web-site作成の関数を用意します"
      ],
      "metadata": {
        "id": "-byphcZxcn7j"
      }
    },
    {
      "cell_type": "code",
      "execution_count": null,
      "metadata": {
        "id": "FbtcB-LvP1UD"
      },
      "outputs": [],
      "source": [
        "from IPython.display import HTML\n",
        "\n",
        "def web_site_builder(title: str, explanation: str):\n",
        "\n",
        "    html = \"\"\"<!DOCTYPE html>\n",
        "<html>\n",
        "    <head>\n",
        "        <title>Product</title>\n",
        "        <style>\n",
        "            body {\n",
        "                background-color: #f0f0f0;\n",
        "                font-family: Arial, sans-serif;\n",
        "            }\n",
        "            .container {\n",
        "                width: 80%;\n",
        "                margin: auto;\n",
        "                padding: 20px;\n",
        "                background-color: #ffffff;\n",
        "                box-shadow: 0px 0px 10px #bbbbbb;\n",
        "                text-align: center;\n",
        "            }\n",
        "            h1 {\n",
        "                color: #333333;\n",
        "                margin-bottom: 20px;\n",
        "            }\n",
        "            p {\n",
        "                color: #666666;\n",
        "                font-size: 16px;\n",
        "                line-height: 1.5;\n",
        "            }\n",
        "        </style>\n",
        "    </head>\n",
        "    <body>\n",
        "        <div class=\"container\">\n",
        "            <h1>\"\"\"+title+\"\"\"</h1>\n",
        "            <p>\"\"\"+explanation+\"\"\"</p>\n",
        "        </div>\n",
        "    </body>\n",
        "</html>\"\"\"\n",
        "    with open('index.html', 'w') as fp:\n",
        "        fp.write(html)\n",
        "    return HTML(filename='index.html')"
      ]
    },
    {
      "cell_type": "markdown",
      "metadata": {
        "id": "grS15cUpaCMY"
      },
      "source": [
        "## 2.function callingのためのプログラムを用意します"
      ]
    },
    {
      "cell_type": "code",
      "execution_count": null,
      "metadata": {
        "id": "2_ty7MN11_Zg"
      },
      "outputs": [],
      "source": [
        "web_site_builder_func = {\n",
        "    \"name\": \"web_site_builder\",\n",
        "    \"description\": \"Creates product web-site\",\n",
        "    \"parameters\": {\n",
        "        \"type\": \"object\",\n",
        "        \"properties\": {\n",
        "            \"title\": {\n",
        "                \"type\": \"string\",\n",
        "                \"description\": \"商品名。This should be written in Japanese.\"\n",
        "            },\n",
        "            \"explanation\": {\n",
        "                \"type\": \"string\",\n",
        "                \"description\": \"美味しいお菓子の説明文。思わず買いたくなるようなかっこいい表現で説明。This should be written with 300 words in Japanese.\"\n",
        "            }\n",
        "        },\n",
        "        \"required\": [\"title\", \"explanation\"]\n",
        "    }\n",
        "}"
      ]
    },
    {
      "cell_type": "code",
      "source": [
        "type(web_site_builder_func)"
      ],
      "metadata": {
        "colab": {
          "base_uri": "https://localhost:8080/"
        },
        "id": "z6Q4KMeWf7r7",
        "outputId": "14ccf2bc-4072-4685-9735-a9132c25335b"
      },
      "execution_count": null,
      "outputs": [
        {
          "output_type": "execute_result",
          "data": {
            "text/plain": [
              "dict"
            ]
          },
          "metadata": {},
          "execution_count": 5
        }
      ]
    },
    {
      "cell_type": "markdown",
      "metadata": {
        "id": "3Zo4PcI-iB9Y"
      },
      "source": [
        "## 3.webのための商品名・説明文をGPT3.5-turboで作成します"
      ]
    },
    {
      "cell_type": "code",
      "execution_count": null,
      "metadata": {
        "colab": {
          "base_uri": "https://localhost:8080/"
        },
        "id": "HPOw2X7d0m7c",
        "outputId": "262fa7dc-487f-4d42-df18-4a8cf436b221"
      },
      "outputs": [
        {
          "output_type": "execute_result",
          "data": {
            "text/plain": [
              "<OpenAIObject chat.completion id=chatcmpl-7SOZJOvntjm6OtXIIn3re7s7FsHaE at 0x7f224b7e1800> JSON: {\n",
              "  \"id\": \"chatcmpl-7SOZJOvntjm6OtXIIn3re7s7FsHaE\",\n",
              "  \"object\": \"chat.completion\",\n",
              "  \"created\": 1687001981,\n",
              "  \"model\": \"gpt-3.5-turbo-0613\",\n",
              "  \"choices\": [\n",
              "    {\n",
              "      \"index\": 0,\n",
              "      \"message\": {\n",
              "        \"role\": \"assistant\",\n",
              "        \"content\": null,\n",
              "        \"function_call\": {\n",
              "          \"name\": \"web_site_builder\",\n",
              "          \"arguments\": \"{\\n  \\\"title\\\": \\\"\\u30d7\\u30ea\\u30c6\\u30a3\\u30fc\\u548c\\u83d3\\u5b50\\u30b3\\u30ec\\u30af\\u30b7\\u30e7\\u30f3\\\",\\n  \\\"explanation\\\": \\\"\\u30d7\\u30ea\\u30c6\\u30a3\\u30fc\\u548c\\u83d3\\u5b50\\u30b3\\u30ec\\u30af\\u30b7\\u30e7\\u30f3\\u306f\\u3001\\u65e5\\u672c\\u306e\\u4f1d\\u7d71\\u7684\\u306a\\u548c\\u83d3\\u5b50\\u3092\\u96c6\\u3081\\u305f\\u30b9\\u30a4\\u30fc\\u30c4\\u306e\\u30b3\\u30ec\\u30af\\u30b7\\u30e7\\u30f3\\u3067\\u3059\\u3002\\u7f8e\\u3057\\u3044\\u30c7\\u30b6\\u30a4\\u30f3\\u3068\\u7e4a\\u7d30\\u306a\\u5473\\u308f\\u3044\\u304c\\u7279\\u5fb4\\u3067\\u3001\\u4e00\\u3064\\u4e00\\u3064\\u306e\\u548c\\u83d3\\u5b50\\u304c\\u82b8\\u8853\\u306e\\u3088\\u3046\\u306a\\u5b58\\u5728\\u3067\\u3059\\u3002\\u3053\\u306e\\u30b3\\u30ec\\u30af\\u30b7\\u30e7\\u30f3\\u306b\\u306f\\u3001\\u685c\\u9905\\u3001\\u62b9\\u8336\\u306e\\u5b87\\u6cbb\\u91d1\\u6642\\u3001\\u3042\\u3093\\u3053\\u307e\\u3093\\u3058\\u3085\\u3046\\u306a\\u3069\\u3001\\u65e5\\u672c\\u3067\\u4eba\\u6c17\\u306e\\u3042\\u308b\\u548c\\u83d3\\u5b50\\u304c\\u542b\\u307e\\u308c\\u3066\\u3044\\u307e\\u3059\\u3002\\u685c\\u9905\\u306f\\u3001\\u3082\\u3061\\u3082\\u3061\\u3068\\u3057\\u305f\\u304a\\u9905\\u306b\\u685c\\u306e\\u8449\\u3067\\u5305\\u307e\\u308c\\u3001\\u4e0a\\u54c1\\u306a\\u685c\\u306e\\u9999\\u308a\\u3068\\u7518\\u3055\\u304c\\u53e3\\u306e\\u4e2d\\u3067\\u5e83\\u304c\\u308a\\u307e\\u3059\\u3002\\u62b9\\u8336\\u306e\\u5b87\\u6cbb\\u91d1\\u6642\\u306f\\u3001\\u5b87\\u6cbb\\u62b9\\u8336\\u306e\\u98a8\\u5473\\u3068\\u3042\\u3093\\u3053\\u306e\\u7518\\u3055\\u304c\\u7d76\\u5999\\u306b\\u30de\\u30c3\\u30c1\\u3057\\u305f\\u8d05\\u6ca2\\u306a\\u548c\\u83d3\\u5b50\\u3067\\u3059\\u3002\\u3042\\u3093\\u3053\\u307e\\u3093\\u3058\\u3085\\u3046\\u306f\\u3001\\u3082\\u3061\\u3082\\u3061\\u3068\\u3057\\u305f\\u751f\\u5730\\u306e\\u4e2d\\u306b\\u6ed1\\u3089\\u304b\\u306a\\u3053\\u3057\\u3042\\u3093\\u304c\\u5305\\u307e\\u308c\\u3066\\u304a\\u308a\\u3001\\u4e00\\u3064\\u98df\\u3079\\u308b\\u3068\\u5e78\\u305b\\u306a\\u6c17\\u6301\\u3061\\u306b\\u306a\\u308c\\u307e\\u3059\\u3002\\u30d7\\u30ea\\u30c6\\u30a3\\u30fc\\u548c\\u83d3\\u5b50\\u30b3\\u30ec\\u30af\\u30b7\\u30e7\\u30f3\\u306f\\u3001\\u65e5\\u672c\\u306e\\u7f8e\\u3057\\u3044\\u548c\\u306e\\u4e16\\u754c\\u3092\\u5473\\u308f\\u3044\\u305f\\u3044\\u4eba\\u306b\\u304a\\u3059\\u3059\\u3081\\u3067\\u3059\\u3002\\u662f\\u975e\\u3001\\u4e00\\u5ea6\\u304a\\u8a66\\u3057\\u304f\\u3060\\u3055\\u3044\\uff01\\\"\\n}\"\n",
              "        }\n",
              "      },\n",
              "      \"finish_reason\": \"function_call\"\n",
              "    }\n",
              "  ],\n",
              "  \"usage\": {\n",
              "    \"prompt_tokens\": 127,\n",
              "    \"completion_tokens\": 408,\n",
              "    \"total_tokens\": 535\n",
              "  }\n",
              "}"
            ]
          },
          "metadata": {},
          "execution_count": 6
        }
      ],
      "source": [
        "instruct = \"Create a web-site for a pretty Japanese sweets collection\"\n",
        "\n",
        "result = openai.ChatCompletion.create(\n",
        "    model='gpt-3.5-turbo-0613',\n",
        "    messages=[{\"role\": \"user\", \"content\": instruct}],\n",
        "    functions=[web_site_builder_func]\n",
        ")\n",
        "\n",
        "result"
      ]
    },
    {
      "cell_type": "code",
      "source": [
        "type(result)"
      ],
      "metadata": {
        "colab": {
          "base_uri": "https://localhost:8080/"
        },
        "outputId": "1f01b951-7c29-4054-b328-8b54737ee993",
        "id": "b-X92eiIkas_"
      },
      "execution_count": null,
      "outputs": [
        {
          "output_type": "execute_result",
          "data": {
            "text/plain": [
              "openai.openai_object.OpenAIObject"
            ]
          },
          "metadata": {},
          "execution_count": 7
        }
      ]
    },
    {
      "cell_type": "markdown",
      "metadata": {
        "id": "QFF6XBCRklKB"
      },
      "source": [
        "## 4. 呼び出すfunctionと渡すパラメータを確認"
      ]
    },
    {
      "cell_type": "code",
      "execution_count": null,
      "metadata": {
        "colab": {
          "base_uri": "https://localhost:8080/"
        },
        "id": "imMgCh6l3Vez",
        "outputId": "4dc405f4-8c6f-4173-dad6-5a5f1544337f"
      },
      "outputs": [
        {
          "output_type": "execute_result",
          "data": {
            "text/plain": [
              "('web_site_builder',\n",
              " {'title': 'プリティー和菓子コレクション',\n",
              "  'explanation': 'プリティー和菓子コレクションは、日本の伝統的な和菓子を集めたスイーツのコレクションです。美しいデザインと繊細な味わいが特徴で、一つ一つの和菓子が芸術のような存在です。このコレクションには、桜餅、抹茶の宇治金時、あんこまんじゅうなど、日本で人気のある和菓子が含まれています。桜餅は、もちもちとしたお餅に桜の葉で包まれ、上品な桜の香りと甘さが口の中で広がります。抹茶の宇治金時は、宇治抹茶の風味とあんこの甘さが絶妙にマッチした贅沢な和菓子です。あんこまんじゅうは、もちもちとした生地の中に滑らかなこしあんが包まれており、一つ食べると幸せな気持ちになれます。プリティー和菓子コレクションは、日本の美しい和の世界を味わいたい人におすすめです。是非、一度お試しください！'})"
            ]
          },
          "metadata": {},
          "execution_count": 8
        }
      ],
      "source": [
        "import json\n",
        "\n",
        "name = result['choices'][0]['message']['function_call']['name']\n",
        "args = json.loads(result['choices'][0]['message']['function_call']['arguments'])\n",
        "name, args"
      ]
    },
    {
      "cell_type": "markdown",
      "metadata": {
        "id": "StcMvO4337cI"
      },
      "source": [
        "## 5. webで結果を表示"
      ]
    },
    {
      "cell_type": "code",
      "execution_count": null,
      "metadata": {
        "colab": {
          "base_uri": "https://localhost:8080/",
          "height": 352
        },
        "id": "_rg7DJW7385y",
        "outputId": "d52e7b44-1252-4abb-a45c-a89100fd9804"
      },
      "outputs": [
        {
          "output_type": "execute_result",
          "data": {
            "text/plain": [
              "<IPython.core.display.HTML object>"
            ],
            "text/html": [
              "<!DOCTYPE html>\n",
              "<html>\n",
              "    <head>\n",
              "        <title>Product</title>\n",
              "        <style>\n",
              "            body {\n",
              "                background-color: #f0f0f0;\n",
              "                font-family: Arial, sans-serif;\n",
              "            }\n",
              "            .container {\n",
              "                width: 80%;\n",
              "                margin: auto;\n",
              "                padding: 20px;\n",
              "                background-color: #ffffff;\n",
              "                box-shadow: 0px 0px 10px #bbbbbb;\n",
              "                text-align: center;\n",
              "            }\n",
              "            h1 {\n",
              "                color: #333333;\n",
              "                margin-bottom: 20px;\n",
              "            }\n",
              "            p {\n",
              "                color: #666666;\n",
              "                font-size: 16px;\n",
              "                line-height: 1.5;\n",
              "            }\n",
              "        </style>\n",
              "    </head>\n",
              "    <body>\n",
              "        <div class=\"container\">\n",
              "            <h1>プリティー和菓子コレクション</h1>\n",
              "            <p>プリティー和菓子コレクションは、日本の伝統的な和菓子を集めたスイーツのコレクションです。美しいデザインと繊細な味わいが特徴で、一つ一つの和菓子が芸術のような存在です。このコレクションには、桜餅、抹茶の宇治金時、あんこまんじゅうなど、日本で人気のある和菓子が含まれています。桜餅は、もちもちとしたお餅に桜の葉で包まれ、上品な桜の香りと甘さが口の中で広がります。抹茶の宇治金時は、宇治抹茶の風味とあんこの甘さが絶妙にマッチした贅沢な和菓子です。あんこまんじゅうは、もちもちとした生地の中に滑らかなこしあんが包まれており、一つ食べると幸せな気持ちになれます。プリティー和菓子コレクションは、日本の美しい和の世界を味わいたい人におすすめです。是非、一度お試しください！</p>\n",
              "        </div>\n",
              "    </body>\n",
              "</html>"
            ]
          },
          "metadata": {},
          "execution_count": 10
        }
      ],
      "source": [
        "web_site_builder(**args)"
      ]
    },
    {
      "cell_type": "code",
      "source": [],
      "metadata": {
        "id": "SJJaarTvJ6u-"
      },
      "execution_count": null,
      "outputs": []
    }
  ],
  "metadata": {
    "accelerator": "GPU",
    "colab": {
      "gpuType": "T4",
      "provenance": []
    },
    "kernelspec": {
      "display_name": "Python 3",
      "name": "python3"
    },
    "language_info": {
      "name": "python"
    }
  },
  "nbformat": 4,
  "nbformat_minor": 0
}